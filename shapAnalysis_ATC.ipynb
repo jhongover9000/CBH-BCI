{
 "cells": [
  {
   "cell_type": "code",
   "execution_count": 11,
   "id": "eec63372",
   "metadata": {},
   "outputs": [],
   "source": [
    "#Here goes the 2 class Explainability!! Based on correct prediction only"
   ]
  },
  {
   "cell_type": "markdown",
   "id": "ae789978",
   "metadata": {},
   "source": []
  },
  {
   "cell_type": "code",
   "execution_count": 12,
   "id": "a9b2f546",
   "metadata": {},
   "outputs": [
    {
     "name": "stdout",
     "output_type": "stream",
     "text": [
      "Looking in indexes: https://pypi.org/simple, https://pypi.ngc.nvidia.com\n",
      "Requirement already satisfied: shap in /home/aimlab/miniconda3/envs/bci/lib/python3.9/site-packages (0.46.0)\n",
      "Requirement already satisfied: numpy in /home/aimlab/miniconda3/envs/bci/lib/python3.9/site-packages (from shap) (1.26.4)\n",
      "Requirement already satisfied: scipy in /home/aimlab/miniconda3/envs/bci/lib/python3.9/site-packages (from shap) (1.13.1)\n",
      "Requirement already satisfied: scikit-learn in /home/aimlab/miniconda3/envs/bci/lib/python3.9/site-packages (from shap) (1.6.1)\n",
      "Requirement already satisfied: pandas in /home/aimlab/miniconda3/envs/bci/lib/python3.9/site-packages (from shap) (2.2.3)\n",
      "Requirement already satisfied: tqdm>=4.27.0 in /home/aimlab/miniconda3/envs/bci/lib/python3.9/site-packages (from shap) (4.67.1)\n",
      "Requirement already satisfied: packaging>20.9 in /home/aimlab/miniconda3/envs/bci/lib/python3.9/site-packages (from shap) (24.2)\n",
      "Requirement already satisfied: slicer==0.0.8 in /home/aimlab/miniconda3/envs/bci/lib/python3.9/site-packages (from shap) (0.0.8)\n",
      "Requirement already satisfied: numba in /home/aimlab/miniconda3/envs/bci/lib/python3.9/site-packages (from shap) (0.60.0)\n",
      "Requirement already satisfied: cloudpickle in /home/aimlab/miniconda3/envs/bci/lib/python3.9/site-packages (from shap) (3.1.1)\n",
      "Requirement already satisfied: llvmlite<0.44,>=0.43.0dev0 in /home/aimlab/miniconda3/envs/bci/lib/python3.9/site-packages (from numba->shap) (0.43.0)\n",
      "Requirement already satisfied: python-dateutil>=2.8.2 in /home/aimlab/miniconda3/envs/bci/lib/python3.9/site-packages (from pandas->shap) (2.9.0.post0)\n",
      "Requirement already satisfied: pytz>=2020.1 in /home/aimlab/miniconda3/envs/bci/lib/python3.9/site-packages (from pandas->shap) (2024.2)\n",
      "Requirement already satisfied: tzdata>=2022.7 in /home/aimlab/miniconda3/envs/bci/lib/python3.9/site-packages (from pandas->shap) (2025.1)\n",
      "Requirement already satisfied: joblib>=1.2.0 in /home/aimlab/miniconda3/envs/bci/lib/python3.9/site-packages (from scikit-learn->shap) (1.4.2)\n",
      "Requirement already satisfied: threadpoolctl>=3.1.0 in /home/aimlab/miniconda3/envs/bci/lib/python3.9/site-packages (from scikit-learn->shap) (3.5.0)\n",
      "Requirement already satisfied: six>=1.5 in /home/aimlab/miniconda3/envs/bci/lib/python3.9/site-packages (from python-dateutil>=2.8.2->pandas->shap) (1.17.0)\n"
     ]
    }
   ],
   "source": [
    "!pip install shap"
   ]
  },
  {
   "cell_type": "code",
   "execution_count": 39,
   "id": "7139ded8",
   "metadata": {},
   "outputs": [],
   "source": [
    "import numpy as np\n",
    "import pickle\n",
    "\n",
    "data_dir = './data/'\n",
    "ref_weights_dir = \"./reference_weights/\"\n",
    "saved_weights_dir = \"./saved_weights/\"\n",
    "results_dir = \"./results/\"\n",
    "shap_dir = \"./shap/\"\n",
    "\n",
    "timestamp = \"20250310163939\"\n",
    "shap_type = \"\"\n",
    "\n",
    "with open(f\"{shap_dir}{timestamp}_shap_values{shap_type}\", \"rb\") as fp:   # Unpickling\n",
    "    shap_values_all = pickle.load(fp)\n",
    "    \n",
    "with open(f\"{shap_dir}{timestamp}_y_test_all{shap_type}\", \"rb\") as fp:   # Unpickling\n",
    "    y_test_all = pickle.load(fp)\n",
    "\n",
    "with open(f\"{shap_dir}{timestamp}_y_pred_all{shap_type}\", \"rb\") as fp:   # Unpickling\n",
    "    y_pred_all = pickle.load(fp)\n",
    "    \n"
   ]
  },
  {
   "cell_type": "code",
   "execution_count": 40,
   "id": "a061677e",
   "metadata": {},
   "outputs": [
    {
     "name": "stdout",
     "output_type": "stream",
     "text": [
      "Shape of a single SHAP elemenet in the list:  (686, 1, 19, 200, 2)\n",
      "Shape of a random y_test in the list:  (686,)\n",
      "Shape of a random y_pred in the list:  (686, 2)\n"
     ]
    }
   ],
   "source": [
    "print('Shape of a single SHAP elemenet in the list: ',np.shape(shap_values_all[0]))\n",
    "#class,trial,1,chan,samples\n",
    "print('Shape of a random y_test in the list: ',np.shape(y_test_all[0]))\n",
    "print('Shape of a random y_pred in the list: ',np.shape(y_pred_all[0]))"
   ]
  },
  {
   "cell_type": "code",
   "execution_count": 41,
   "id": "dd436601",
   "metadata": {},
   "outputs": [
    {
     "name": "stdout",
     "output_type": "stream",
     "text": [
      "Shape of all SHAP values for NT class:  (6616, 19, 200)\n",
      "Shape of all SHAP values for ST class:  (6616, 19, 200)\n",
      "Shape of all y_test array:  (6616,)\n",
      "Shape of all y_pred array:  (6616, 2)\n"
     ]
    }
   ],
   "source": [
    "from sklearn.model_selection import train_test_split\n",
    "import matplotlib.pyplot as plt\n",
    "import pandas as pd\n",
    "\n",
    "# 258, 1, 56, 768, 2 -> 2, 258, 1, 56, 768\n",
    "# 686, 22, 200, 1, 2\n",
    "# 686, 1, 19, 200, 2\n",
    "nSub=8\n",
    "for sub in range(nSub):\n",
    "    if sub==0:\n",
    "        shap_temp = np.array(shap_values_all[sub])\n",
    "        shap_temp = np.transpose(shap_temp,[4,0,1,2,3])\n",
    "\n",
    "        shap_values_kmi=np.array(shap_temp[0])\n",
    "        shap_values_vmi=np.array(shap_temp[1])\n",
    "\n",
    "    else:\n",
    "        shap_temp = np.array(shap_values_all[sub])\n",
    "        shap_temp = np.transpose(shap_temp,[4,0,1,2,3])\n",
    "\n",
    "        temp=np.array(shap_temp[0])\n",
    "        shap_values_kmi=np.concatenate((shap_values_kmi,temp),axis=0)\n",
    "\n",
    "        temp=np.array(shap_temp[1])\n",
    "        shap_values_vmi=np.concatenate((shap_values_vmi,temp),axis=0)\n",
    "        \n",
    "\n",
    "\n",
    "shap_values_kmi =np.squeeze(shap_values_kmi)\n",
    "shap_values_vmi =np.squeeze(shap_values_vmi)\n",
    "\n",
    "print('Shape of all SHAP values for NT class: ', np.shape(shap_values_kmi))\n",
    "print('Shape of all SHAP values for ST class: ', np.shape(shap_values_vmi))\n",
    "\n",
    "y_test_all=np.concatenate( y_test_all )\n",
    "y_pred_all=np.concatenate( y_pred_all )\n",
    "\n",
    "print('Shape of all y_test array: ', np.shape(y_test_all))\n",
    "print('Shape of all y_pred array: ', np.shape(y_pred_all))\n",
    "\n"
   ]
  },
  {
   "cell_type": "code",
   "execution_count": 42,
   "id": "906fae90",
   "metadata": {},
   "outputs": [
    {
     "name": "stdout",
     "output_type": "stream",
     "text": [
      "(6616,)\n",
      "(6616, 2)\n",
      "(6616, 19, 200)\n",
      "Instances of correct 0 class:  3201\n",
      "Instances of correct 1 class:  3052\n",
      "A sample shape of a single SHAP after squeeze:  (19, 200)\n",
      "Converting List of Final SHAPS_0 into array: (3201, 19, 200)\n",
      "Converting List of Final SHAPS_1 into array: (3052, 19, 200)\n"
     ]
    }
   ],
   "source": [
    "SHAPS_0=[]\n",
    "SHAPS_1=[]\n",
    "\n",
    "print(np.shape(y_test_all))\n",
    "print(np.shape(y_pred_all))\n",
    "print(np.shape(shap_values_kmi))\n",
    "\n",
    "y_pred_classes = np.argmax(y_pred_all, axis=1)\n",
    "\n",
    "for i in range(len(y_test_all)):\n",
    "    if y_test_all[i] == y_pred_classes[i]:\n",
    "        if y_test_all[i] == 0:\n",
    "            SHAPS_0.append(np.squeeze(shap_values_kmi[i]))\n",
    "        else:\n",
    "            SHAPS_1.append(np.squeeze(shap_values_vmi[i]))\n",
    "print('Instances of correct 0 class: ', len(SHAPS_0))\n",
    "print('Instances of correct 1 class: ', len(SHAPS_1))\n",
    "print('A sample shape of a single SHAP after squeeze: ', np.shape(shap_values_vmi[i]))\n",
    "\n",
    "SHAPS_0=np.stack( SHAPS_0, axis=0 )\n",
    "SHAPS_1=np.stack( SHAPS_1, axis=0 )\n",
    "print('Converting List of Final SHAPS_0 into array:' ,np.shape(SHAPS_0))\n",
    "print('Converting List of Final SHAPS_1 into array:' ,np.shape(SHAPS_1))"
   ]
  },
  {
   "cell_type": "code",
   "execution_count": null,
   "id": "eb9dbcf9",
   "metadata": {},
   "outputs": [],
   "source": [
    "\n"
   ]
  },
  {
   "cell_type": "code",
   "execution_count": 43,
   "id": "b2d2f757",
   "metadata": {},
   "outputs": [],
   "source": [
    "# Save files (removes from kernel variable)\n",
    "shaps_0 = np.save(f'{shap_dir}{timestamp}_SHAPS_0.npy', SHAPS_0 ,allow_pickle=True)\n",
    "shaps_1 = np.save(f'{shap_dir}{timestamp}_SHAPS_1.npy', SHAPS_1 ,allow_pickle=True)"
   ]
  },
  {
   "cell_type": "code",
   "execution_count": 44,
   "id": "9237fe62",
   "metadata": {},
   "outputs": [
    {
     "name": "stdout",
     "output_type": "stream",
     "text": [
      "(6253, 19, 200)\n"
     ]
    },
    {
     "data": {
      "image/png": "[encoded data removed]",
      "text/plain": [
       "<Figure size 800x910 with 1 Axes>"
      ]
     },
     "metadata": {},
     "output_type": "display_data"
    },
    {
     "data": {
      "text/plain": [
       "<Figure size 640x480 with 0 Axes>"
      ]
     },
     "metadata": {},
     "output_type": "display_data"
    }
   ],
   "source": [
    "import shap\n",
    "import matplotlib.pyplot as plt\n",
    "\n",
    "# Reload files\n",
    "# with open(f\"{shap_dir}{timestamp}_SHAPS_0.npy\", \"rb\") as fp:   # Unpickling\n",
    "#     shaps_0 = pickle.load(fp)\n",
    "# with open(f\"{shap_dir}{timestamp}_SHAPS_1.npy\", \"rb\") as fp:   # Unpickling\n",
    "#     shaps_1 = pickle.load(fp)\n",
    "names = ['Fp1', 'Fp2', 'F3', 'F4', 'C3', 'C4', 'P3', 'P4', 'O1', 'O2', 'F7', 'F8', 'T3', 'T4', 'T5', 'T6', 'Fz', 'Cz', 'Pz']\n",
    "# names = ['Fp1','Fz','F3','F7','FC5','FC1','C3','CP5','CP1','Pz','P3','P7','O1','Oz','O2','P4','P8','CP6','CP2','Cz','C4','FC6','FC2','F4','F8','Fp2','AF7','AF3','AFz','F1','F5','FC3','C1','C5','TP7','CP3','P1','P5','PO7','PO3','POz','PO4','PO8','P6','P2','CPz','CP4','TP8','C6','C2','FC4','F6','AF8','AF4','F2','FCz']\n",
    "allCond = np.concatenate((SHAPS_0,SHAPS_1),axis=0)\n",
    "print(np.shape(allCond))\n",
    "allCond= np.abs(allCond)\n",
    "fig=shap.summary_plot(np.mean(allCond,axis=2), plot_type = 'bar', feature_names = names,show=True)\n",
    "plt.savefig(f'{shap_dir}{timestamp}_shap.jpg', format='jpg')\n",
    "\n"
   ]
  },
  {
   "cell_type": "code",
   "execution_count": null,
   "id": "7b7d5170",
   "metadata": {},
   "outputs": [
    {
     "name": "stdout",
     "output_type": "stream",
     "text": [
      "(22, 200)\n",
      "(22, 200)\n"
     ]
    }
   ],
   "source": [
    "SHAPS_0 = np.mean(np.abs(SHAPS_0),axis=0)\n",
    "SHAPS_1 = np.mean(np.abs(SHAPS_1),axis=0)\n",
    "\n",
    "print(np.shape(SHAPS_0))\n",
    "print(np.shape(SHAPS_1))\n",
    "#Here goes the individual explainability"
   ]
  },
  {
   "cell_type": "code",
   "execution_count": 22,
   "id": "2f9541df",
   "metadata": {},
   "outputs": [],
   "source": [
    "import numpy as np\n",
    "import pickle\n",
    "\n",
    "with open(f\"{shap_dir}{timestamp}_shaps_values_all_{shap_type}\", \"rb\") as fp:   # Unpickling\n",
    "    shap_values_all = pickle.load(fp)\n",
    "    \n",
    "with open(f\"{shap_dir}{timestamp}_y_test_all_{shap_type}\", \"rb\") as fp:   # Unpickling\n",
    "    y_test_all = pickle.load(fp)\n",
    "\n",
    "with open(f\"{shap_dir}{timestamp}_y_pred_all_{shap_type}\", \"rb\") as fp:   # Unpickling\n",
    "    y_pred_all = pickle.load(fp)\n",
    "    \n"
   ]
  },
  {
   "cell_type": "code",
   "execution_count": null,
   "id": "8ebac4e7",
   "metadata": {},
   "outputs": [
    {
     "name": "stdout",
     "output_type": "stream",
     "text": [
      "Shape of a single SHAP elemenet in the list:  (2, 131, 1, 56, 400)\n",
      "Shape of a random y_test in the list:  (131,)\n",
      "Shape of a random y_pred in the list:  (131,)\n"
     ]
    }
   ],
   "source": [
    "print('Shape of a single SHAP elemenet in the list: ',np.shape(shap_values_all[0]))\n",
    "#class,trial,1,chan,samples\n",
    "\n",
    "print('Shape of a random y_test in the list: ',np.shape(y_test_all[0]))\n",
    "print('Shape of a random y_pred in the list: ',np.shape(y_pred_all[0]))"
   ]
  },
  {
   "cell_type": "code",
   "execution_count": null,
   "id": "661f4fa1",
   "metadata": {},
   "outputs": [
    {
     "ename": "ValueError",
     "evalue": "The truth value of an array with more than one element is ambiguous. Use a.any() or a.all()",
     "output_type": "error",
     "traceback": [
      "\u001b[0;31m---------------------------------------------------------------------------\u001b[0m",
      "\u001b[0;31mValueError\u001b[0m                                Traceback (most recent call last)",
      "Cell \u001b[0;32mIn[23], line 12\u001b[0m\n\u001b[1;32m     10\u001b[0m temp\u001b[38;5;241m=\u001b[39m[]\n\u001b[1;32m     11\u001b[0m \u001b[38;5;28;01mfor\u001b[39;00m i \u001b[38;5;129;01min\u001b[39;00m \u001b[38;5;28mrange\u001b[39m(\u001b[38;5;28mlen\u001b[39m(y_test_all[sub])):\n\u001b[0;32m---> 12\u001b[0m     \u001b[38;5;28;01mif\u001b[39;00m y_test_all[sub][i]\u001b[38;5;241m==\u001b[39m y_pred_all[sub][i]:\n\u001b[1;32m     13\u001b[0m         \u001b[38;5;28;01mif\u001b[39;00m y_test_all[sub][i] \u001b[38;5;241m==\u001b[39m \u001b[38;5;241m0\u001b[39m:\n\u001b[1;32m     14\u001b[0m             temp\u001b[38;5;241m.\u001b[39mappend(np\u001b[38;5;241m.\u001b[39msqueeze(shap_values_sub[\u001b[38;5;241m0\u001b[39m,i,:,:,:]))\n",
      "\u001b[0;31mValueError\u001b[0m: The truth value of an array with more than one element is ambiguous. Use a.any() or a.all()"
     ]
    }
   ],
   "source": [
    "from sklearn.model_selection import train_test_split\n",
    "import matplotlib.pyplot as plt\n",
    "import pandas as pd\n",
    "\n",
    "shap_sub=[]\n",
    "\n",
    "nSub=8\n",
    "for sub in range(nSub):\n",
    "    shap_values_sub=np.array(shap_values_all[sub])\n",
    "    temp=[]\n",
    "    for i in range(len(y_test_all[sub])):\n",
    "        if y_test_all[sub][i]== y_pred_all[sub][i]:\n",
    "            if y_test_all[sub][i] == 0:\n",
    "                temp.append(np.squeeze(shap_values_sub[0,i,:,:,:]))\n",
    "            if y_test_all[sub][i] == 1:\n",
    "                temp.append(np.squeeze(shap_values_sub[1,i,:,:,:]))\n",
    "    shap_sub.append(np.mean(np.abs(np.array(temp)),axis=0))\n",
    "\n",
    "\n",
    "print(np.shape(shap_sub[0]))\n",
    " \n"
   ]
  },
  {
   "cell_type": "code",
   "execution_count": null,
   "id": "055a2593",
   "metadata": {},
   "outputs": [
    {
     "name": "stdout",
     "output_type": "stream",
     "text": [
      "[26 30 24  0 52  3 25 51 33 28]\n",
      "[26 52 25  3 13 30 46  0 33 53]\n",
      "[26  0 25 30 52 24 37  3 28 38]\n",
      "[25 26 52 30  3 51 24  4 11  0]\n",
      "[ 3 26 52 30 24 25  9 51  4  0]\n",
      "[24 26  3 30 52 25 51 33 21 48]\n",
      "[26 52 38 25 30 13 34 24 51  3]\n",
      "[52 26 30 25  0  3 44 53 28 41]\n",
      "[52 26 25  3 24  4 30 51 36  0]\n",
      "[24 26  3 50 52 30  4 51 25 19]\n",
      "[26  3 52 30 25 24 53 38 51 33]\n",
      "[26 28 52 24 25 30  3 51  4  1]\n",
      "[52 26  3 30 25 51 37  0 24 33]\n",
      "[26 52 25 24 33 12 51 30  0 27]\n",
      "[26 25 52  3 33 24 30 21  0 23]\n",
      "[52  0  3 26 30 25 51 44 24 28]\n"
     ]
    }
   ],
   "source": [
    "best_ch=[]\n",
    "n=10 #how many best channels\n",
    "for sub in range(nSub):\n",
    "    temp=shap_sub[sub]\n",
    "    temp=np.mean(np.abs(temp),axis=1)\n",
    "    print((-temp).argsort()[:n])\n",
    "    best_ch.append((-temp).argsort()[:n])\n"
   ]
  },
  {
   "cell_type": "code",
   "execution_count": null,
   "id": "bf296666",
   "metadata": {},
   "outputs": [],
   "source": [
    "np.save('best_ch.npy', best_ch ,allow_pickle=True)\n"
   ]
  },
  {
   "cell_type": "code",
   "execution_count": null,
   "id": "3fa3fa4c",
   "metadata": {},
   "outputs": [],
   "source": []
  }
 ],
 "metadata": {
  "kernelspec": {
   "display_name": "bci",
   "language": "python",
   "name": "python3"
  },
  "language_info": {
   "codemirror_mode": {
    "name": "ipython",
    "version": 3
   },
   "file_extension": ".py",
   "mimetype": "text/x-python",
   "name": "python",
   "nbconvert_exporter": "python",
   "pygments_lexer": "ipython3",
   "version": "3.9.18"
  }
 },
 "nbformat": 4,
 "nbformat_minor": 5
}
