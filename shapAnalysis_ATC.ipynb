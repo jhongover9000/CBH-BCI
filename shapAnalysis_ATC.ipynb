{
 "cells": [
  {
   "cell_type": "code",
   "execution_count": 11,
   "id": "eec63372",
   "metadata": {},
   "outputs": [],
   "source": [
    "#Here goes the 2 class Explainability!! Based on correct prediction only"
   ]
  },
  {
   "cell_type": "markdown",
   "id": "ae789978",
   "metadata": {},
   "source": []
  },
  {
   "cell_type": "code",
   "execution_count": 12,
   "id": "a9b2f546",
   "metadata": {},
   "outputs": [
    {
     "name": "stdout",
     "output_type": "stream",
     "text": [
      "Looking in indexes: https://pypi.org/simple, https://pypi.ngc.nvidia.com\n",
      "Requirement already satisfied: shap in /home/aimlab/miniconda3/envs/bci/lib/python3.9/site-packages (0.46.0)\n",
      "Requirement already satisfied: numpy in /home/aimlab/miniconda3/envs/bci/lib/python3.9/site-packages (from shap) (1.26.4)\n",
      "Requirement already satisfied: scipy in /home/aimlab/miniconda3/envs/bci/lib/python3.9/site-packages (from shap) (1.13.1)\n",
      "Requirement already satisfied: scikit-learn in /home/aimlab/miniconda3/envs/bci/lib/python3.9/site-packages (from shap) (1.6.1)\n",
      "Requirement already satisfied: pandas in /home/aimlab/miniconda3/envs/bci/lib/python3.9/site-packages (from shap) (2.2.3)\n",
      "Requirement already satisfied: tqdm>=4.27.0 in /home/aimlab/miniconda3/envs/bci/lib/python3.9/site-packages (from shap) (4.67.1)\n",
      "Requirement already satisfied: packaging>20.9 in /home/aimlab/miniconda3/envs/bci/lib/python3.9/site-packages (from shap) (24.2)\n",
      "Requirement already satisfied: slicer==0.0.8 in /home/aimlab/miniconda3/envs/bci/lib/python3.9/site-packages (from shap) (0.0.8)\n",
      "Requirement already satisfied: numba in /home/aimlab/miniconda3/envs/bci/lib/python3.9/site-packages (from shap) (0.60.0)\n",
      "Requirement already satisfied: cloudpickle in /home/aimlab/miniconda3/envs/bci/lib/python3.9/site-packages (from shap) (3.1.1)\n",
      "Requirement already satisfied: llvmlite<0.44,>=0.43.0dev0 in /home/aimlab/miniconda3/envs/bci/lib/python3.9/site-packages (from numba->shap) (0.43.0)\n",
      "Requirement already satisfied: python-dateutil>=2.8.2 in /home/aimlab/miniconda3/envs/bci/lib/python3.9/site-packages (from pandas->shap) (2.9.0.post0)\n",
      "Requirement already satisfied: pytz>=2020.1 in /home/aimlab/miniconda3/envs/bci/lib/python3.9/site-packages (from pandas->shap) (2024.2)\n",
      "Requirement already satisfied: tzdata>=2022.7 in /home/aimlab/miniconda3/envs/bci/lib/python3.9/site-packages (from pandas->shap) (2025.1)\n",
      "Requirement already satisfied: joblib>=1.2.0 in /home/aimlab/miniconda3/envs/bci/lib/python3.9/site-packages (from scikit-learn->shap) (1.4.2)\n",
      "Requirement already satisfied: threadpoolctl>=3.1.0 in /home/aimlab/miniconda3/envs/bci/lib/python3.9/site-packages (from scikit-learn->shap) (3.5.0)\n",
      "Requirement already satisfied: six>=1.5 in /home/aimlab/miniconda3/envs/bci/lib/python3.9/site-packages (from python-dateutil>=2.8.2->pandas->shap) (1.17.0)\n"
     ]
    }
   ],
   "source": [
    "!pip install shap"
   ]
  },
  {
   "cell_type": "code",
   "execution_count": 11,
   "id": "7139ded8",
   "metadata": {},
   "outputs": [],
   "source": [
    "import numpy as np\n",
    "import pickle\n",
    "\n",
    "data_dir = './data/'\n",
    "ref_weights_dir = \"./reference_weights/\"\n",
    "saved_weights_dir = \"./saved_weights/\"\n",
    "results_dir = \"./results/\"\n",
    "shap_dir = \"./shap/\"\n",
    "\n",
    "timestamp = \"20250326182459\"\n",
    "shap_type = \"\"\n",
    "\n",
    "with open(f\"{shap_dir}{timestamp}_shap_values{shap_type}\", \"rb\") as fp:   # Unpickling\n",
    "    shap_values_all = pickle.load(fp)\n",
    "    \n",
    "with open(f\"{shap_dir}{timestamp}_y_test_all{shap_type}\", \"rb\") as fp:   # Unpickling\n",
    "    y_test_all = pickle.load(fp)\n",
    "\n",
    "with open(f\"{shap_dir}{timestamp}_y_pred_all{shap_type}\", \"rb\") as fp:   # Unpickling\n",
    "    y_pred_all = pickle.load(fp)\n",
    "    \n"
   ]
  },
  {
   "cell_type": "code",
   "execution_count": 12,
   "id": "a061677e",
   "metadata": {},
   "outputs": [
    {
     "name": "stdout",
     "output_type": "stream",
     "text": [
      "Shape of a single SHAP elemenet in the list:  (686, 1, 22, 200, 2)\n",
      "Shape of a random y_test in the list:  (686,)\n",
      "Shape of a random y_pred in the list:  (686, 2)\n"
     ]
    }
   ],
   "source": [
    "print('Shape of a single SHAP elemenet in the list: ',np.shape(shap_values_all[0]))\n",
    "#class,trial,1,chan,samples\n",
    "print('Shape of a random y_test in the list: ',np.shape(y_test_all[0]))\n",
    "print('Shape of a random y_pred in the list: ',np.shape(y_pred_all[0]))"
   ]
  },
  {
   "cell_type": "code",
   "execution_count": 13,
   "id": "dd436601",
   "metadata": {},
   "outputs": [
    {
     "name": "stdout",
     "output_type": "stream",
     "text": [
      "Shape of all SHAP values for NT class:  (6616, 22, 200)\n",
      "Shape of all SHAP values for ST class:  (6616, 22, 200)\n",
      "Shape of all y_test array:  (6616,)\n",
      "Shape of all y_pred array:  (6616, 2)\n"
     ]
    }
   ],
   "source": [
    "from sklearn.model_selection import train_test_split\n",
    "import matplotlib.pyplot as plt\n",
    "import pandas as pd\n",
    "\n",
    "# 258, 1, 56, 768, 2 -> 2, 258, 1, 56, 768\n",
    "# 686, 22, 200, 1, 2\n",
    "# 686, 1, 19, 200, 2\n",
    "nSub=8\n",
    "for sub in range(nSub):\n",
    "    if sub==0:\n",
    "        shap_temp = np.array(shap_values_all[sub])\n",
    "        shap_temp = np.transpose(shap_temp,[4,0,1,2,3])\n",
    "\n",
    "        shap_values_kmi=np.array(shap_temp[0])\n",
    "        shap_values_vmi=np.array(shap_temp[1])\n",
    "\n",
    "    else:\n",
    "        shap_temp = np.array(shap_values_all[sub])\n",
    "        shap_temp = np.transpose(shap_temp,[4,0,1,2,3])\n",
    "\n",
    "        temp=np.array(shap_temp[0])\n",
    "        shap_values_kmi=np.concatenate((shap_values_kmi,temp),axis=0)\n",
    "\n",
    "        temp=np.array(shap_temp[1])\n",
    "        shap_values_vmi=np.concatenate((shap_values_vmi,temp),axis=0)\n",
    "        \n",
    "\n",
    "\n",
    "shap_values_kmi =np.squeeze(shap_values_kmi)\n",
    "shap_values_vmi =np.squeeze(shap_values_vmi)\n",
    "\n",
    "print('Shape of all SHAP values for NT class: ', np.shape(shap_values_kmi))\n",
    "print('Shape of all SHAP values for ST class: ', np.shape(shap_values_vmi))\n",
    "\n",
    "y_test_all=np.concatenate( y_test_all )\n",
    "y_pred_all=np.concatenate( y_pred_all )\n",
    "\n",
    "print('Shape of all y_test array: ', np.shape(y_test_all))\n",
    "print('Shape of all y_pred array: ', np.shape(y_pred_all))\n",
    "\n"
   ]
  },
  {
   "cell_type": "code",
   "execution_count": 14,
   "id": "906fae90",
   "metadata": {},
   "outputs": [
    {
     "name": "stdout",
     "output_type": "stream",
     "text": [
      "(6616,)\n",
      "(6616, 2)\n",
      "(6616, 22, 200)\n",
      "Instances of correct 0 class:  3307\n",
      "Instances of correct 1 class:  3308\n",
      "A sample shape of a single SHAP after squeeze:  (22, 200)\n",
      "Converting List of Final SHAPS_0 into array: (3307, 22, 200)\n",
      "Converting List of Final SHAPS_1 into array: (3308, 22, 200)\n"
     ]
    }
   ],
   "source": [
    "SHAPS_0=[]\n",
    "SHAPS_1=[]\n",
    "\n",
    "print(np.shape(y_test_all))\n",
    "print(np.shape(y_pred_all))\n",
    "print(np.shape(shap_values_kmi))\n",
    "\n",
    "y_pred_classes = np.argmax(y_pred_all, axis=1)\n",
    "\n",
    "for i in range(len(y_test_all)):\n",
    "    if y_test_all[i] == y_pred_classes[i]:\n",
    "        if y_test_all[i] == 0:\n",
    "            SHAPS_0.append(np.squeeze(shap_values_kmi[i]))\n",
    "        else:\n",
    "            SHAPS_1.append(np.squeeze(shap_values_vmi[i]))\n",
    "print('Instances of correct 0 class: ', len(SHAPS_0))\n",
    "print('Instances of correct 1 class: ', len(SHAPS_1))\n",
    "print('A sample shape of a single SHAP after squeeze: ', np.shape(shap_values_vmi[i]))\n",
    "\n",
    "SHAPS_0=np.stack( SHAPS_0, axis=0 )\n",
    "SHAPS_1=np.stack( SHAPS_1, axis=0 )\n",
    "print('Converting List of Final SHAPS_0 into array:' ,np.shape(SHAPS_0))\n",
    "print('Converting List of Final SHAPS_1 into array:' ,np.shape(SHAPS_1))"
   ]
  },
  {
   "cell_type": "code",
   "execution_count": null,
   "id": "eb9dbcf9",
   "metadata": {},
   "outputs": [],
   "source": [
    "\n"
   ]
  },
  {
   "cell_type": "code",
   "execution_count": 5,
   "id": "b2d2f757",
   "metadata": {},
   "outputs": [],
   "source": [
    "# Save files (removes from kernel variable)\n",
    "shaps_0 = np.save(f'{shap_dir}{timestamp}_SHAPS_0.npy', SHAPS_0 ,allow_pickle=True)\n",
    "shaps_1 = np.save(f'{shap_dir}{timestamp}_SHAPS_1.npy', SHAPS_1 ,allow_pickle=True)"
   ]
  },
  {
   "cell_type": "code",
   "execution_count": null,
   "id": "9237fe62",
   "metadata": {},
   "outputs": [
    {
     "name": "stdout",
     "output_type": "stream",
     "text": [
      "(6615, 22, 200)\n",
      "[[0.00293036 0.00572315 0.00628285 ... 0.00296699 0.00398132 0.00321559]\n",
      " [0.00286724 0.00723726 0.0061787  ... 0.00208338 0.00367482 0.0037985 ]\n",
      " [0.00303803 0.00695329 0.00551401 ... 0.00415451 0.00317422 0.00141193]\n",
      " ...\n",
      " [0.00208994 0.00384077 0.00443626 ... 0.00243702 0.00282835 0.00052379]\n",
      " [0.00306745 0.00480271 0.00407756 ... 0.00241548 0.00273436 0.00052125]\n",
      " [0.0025745  0.004477   0.00353421 ... 0.00300535 0.00254062 0.00051802]]\n"
     ]
    },
    {
     "ename": "IndexError",
     "evalue": "list index out of range",
     "output_type": "error",
     "traceback": [
      "\u001b[0;31m---------------------------------------------------------------------------\u001b[0m",
      "\u001b[0;31mIndexError\u001b[0m                                Traceback (most recent call last)",
      "Cell \u001b[0;32mIn[20], line 22\u001b[0m\n\u001b[1;32m     20\u001b[0m allCond\u001b[38;5;241m=\u001b[39m np\u001b[38;5;241m.\u001b[39mabs(allCond)\n\u001b[1;32m     21\u001b[0m \u001b[38;5;28mprint\u001b[39m(np\u001b[38;5;241m.\u001b[39mmean(allCond,axis\u001b[38;5;241m=\u001b[39m\u001b[38;5;241m1\u001b[39m))\n\u001b[0;32m---> 22\u001b[0m fig\u001b[38;5;241m=\u001b[39m\u001b[43mshap\u001b[49m\u001b[38;5;241;43m.\u001b[39;49m\u001b[43msummary_plot\u001b[49m\u001b[43m(\u001b[49m\u001b[43mnp\u001b[49m\u001b[38;5;241;43m.\u001b[39;49m\u001b[43mmean\u001b[49m\u001b[43m(\u001b[49m\u001b[43mallCond\u001b[49m\u001b[43m,\u001b[49m\u001b[43maxis\u001b[49m\u001b[38;5;241;43m=\u001b[39;49m\u001b[38;5;241;43m1\u001b[39;49m\u001b[43m)\u001b[49m\u001b[43m,\u001b[49m\u001b[43m \u001b[49m\u001b[43mplot_type\u001b[49m\u001b[43m \u001b[49m\u001b[38;5;241;43m=\u001b[39;49m\u001b[43m \u001b[49m\u001b[38;5;124;43m'\u001b[39;49m\u001b[38;5;124;43mbar\u001b[39;49m\u001b[38;5;124;43m'\u001b[39;49m\u001b[43m,\u001b[49m\u001b[43m \u001b[49m\u001b[43mfeature_names\u001b[49m\u001b[43m \u001b[49m\u001b[38;5;241;43m=\u001b[39;49m\u001b[43m \u001b[49m\u001b[43mnames\u001b[49m\u001b[43m,\u001b[49m\u001b[43mshow\u001b[49m\u001b[38;5;241;43m=\u001b[39;49m\u001b[38;5;28;43;01mTrue\u001b[39;49;00m\u001b[43m)\u001b[49m\n\u001b[1;32m     23\u001b[0m plt\u001b[38;5;241m.\u001b[39msavefig(\u001b[38;5;124mf\u001b[39m\u001b[38;5;124m'\u001b[39m\u001b[38;5;132;01m{\u001b[39;00mshap_dir\u001b[38;5;132;01m}\u001b[39;00m\u001b[38;5;132;01m{\u001b[39;00mtimestamp\u001b[38;5;132;01m}\u001b[39;00m\u001b[38;5;124m_shap.jpg\u001b[39m\u001b[38;5;124m'\u001b[39m, \u001b[38;5;28mformat\u001b[39m\u001b[38;5;241m=\u001b[39m\u001b[38;5;124m'\u001b[39m\u001b[38;5;124mjpg\u001b[39m\u001b[38;5;124m'\u001b[39m)\n",
      "File \u001b[0;32m~/miniconda3/envs/bci/lib/python3.9/site-packages/shap/plots/_beeswarm.py:875\u001b[0m, in \u001b[0;36msummary_legacy\u001b[0;34m(shap_values, features, feature_names, max_display, plot_type, color, axis_color, title, alpha, show, sort, color_bar, plot_size, layered_violin_max_num_bins, class_names, class_inds, color_bar_label, cmap, show_values_in_legend, use_log_scale)\u001b[0m\n\u001b[1;32m    873\u001b[0m     pl\u001b[38;5;241m.\u001b[39mbarh(y_pos, global_shap_values[feature_inds], \u001b[38;5;241m0.7\u001b[39m, align\u001b[38;5;241m=\u001b[39m\u001b[38;5;124m'\u001b[39m\u001b[38;5;124mcenter\u001b[39m\u001b[38;5;124m'\u001b[39m, color\u001b[38;5;241m=\u001b[39mcolor)\n\u001b[1;32m    874\u001b[0m     pl\u001b[38;5;241m.\u001b[39myticks(y_pos, fontsize\u001b[38;5;241m=\u001b[39m\u001b[38;5;241m13\u001b[39m)\n\u001b[0;32m--> 875\u001b[0m     pl\u001b[38;5;241m.\u001b[39mgca()\u001b[38;5;241m.\u001b[39mset_yticklabels([feature_names[i] \u001b[38;5;28;01mfor\u001b[39;00m i \u001b[38;5;129;01min\u001b[39;00m feature_inds])\n\u001b[1;32m    877\u001b[0m \u001b[38;5;28;01melif\u001b[39;00m multi_class \u001b[38;5;129;01mand\u001b[39;00m plot_type \u001b[38;5;241m==\u001b[39m \u001b[38;5;124m\"\u001b[39m\u001b[38;5;124mbar\u001b[39m\u001b[38;5;124m\"\u001b[39m:\n\u001b[1;32m    878\u001b[0m     \u001b[38;5;28;01mif\u001b[39;00m class_names \u001b[38;5;129;01mis\u001b[39;00m \u001b[38;5;28;01mNone\u001b[39;00m:\n",
      "File \u001b[0;32m~/miniconda3/envs/bci/lib/python3.9/site-packages/shap/plots/_beeswarm.py:875\u001b[0m, in \u001b[0;36m<listcomp>\u001b[0;34m(.0)\u001b[0m\n\u001b[1;32m    873\u001b[0m     pl\u001b[38;5;241m.\u001b[39mbarh(y_pos, global_shap_values[feature_inds], \u001b[38;5;241m0.7\u001b[39m, align\u001b[38;5;241m=\u001b[39m\u001b[38;5;124m'\u001b[39m\u001b[38;5;124mcenter\u001b[39m\u001b[38;5;124m'\u001b[39m, color\u001b[38;5;241m=\u001b[39mcolor)\n\u001b[1;32m    874\u001b[0m     pl\u001b[38;5;241m.\u001b[39myticks(y_pos, fontsize\u001b[38;5;241m=\u001b[39m\u001b[38;5;241m13\u001b[39m)\n\u001b[0;32m--> 875\u001b[0m     pl\u001b[38;5;241m.\u001b[39mgca()\u001b[38;5;241m.\u001b[39mset_yticklabels([\u001b[43mfeature_names\u001b[49m\u001b[43m[\u001b[49m\u001b[43mi\u001b[49m\u001b[43m]\u001b[49m \u001b[38;5;28;01mfor\u001b[39;00m i \u001b[38;5;129;01min\u001b[39;00m feature_inds])\n\u001b[1;32m    877\u001b[0m \u001b[38;5;28;01melif\u001b[39;00m multi_class \u001b[38;5;129;01mand\u001b[39;00m plot_type \u001b[38;5;241m==\u001b[39m \u001b[38;5;124m\"\u001b[39m\u001b[38;5;124mbar\u001b[39m\u001b[38;5;124m\"\u001b[39m:\n\u001b[1;32m    878\u001b[0m     \u001b[38;5;28;01mif\u001b[39;00m class_names \u001b[38;5;129;01mis\u001b[39;00m \u001b[38;5;28;01mNone\u001b[39;00m:\n",
      "\u001b[0;31mIndexError\u001b[0m: list index out of range"
     ]
    },
    {
     "data": {
      "image/png": "[encoded data removed]",
      "text/plain": [
       "<Figure size 800x950 with 1 Axes>"
      ]
     },
     "metadata": {},
     "output_type": "display_data"
    }
   ],
   "source": [
    "import shap\n",
    "import matplotlib.pyplot as plt\n",
    "\n",
    "# Reload files\n",
    "# with open(f\"{shap_dir}{timestamp}_SHAPS_0.npy\", \"rb\") as fp:   # Unpickling\n",
    "#     shaps_0 = pickle.load(fp)\n",
    "# with open(f\"{shap_dir}{timestamp}_SHAPS_1.npy\", \"rb\") as fp:   # Unpickling\n",
    "#     shaps_1 = pickle.load(fp)\n",
    "names = ['Fp1', 'Fp2', 'F3', 'F4', 'C3', 'C4', 'P3', 'P4', 'O1', 'O2', 'F7', 'F8', 'T3', 'T4', 'T5', 'T6', 'Fz', 'Cz', 'Pz']\n",
    "# names = ['Fp1','F3','F7','FC5','FC1','C3','CP5','CP1','Pz','P3','P7','O1','Oz','O2','P4','P8','CP6','CP2','Cz','C4','FC6','FC2','F4','F8','Fp2','AF7','AF3','AFz','F1','F5','FC3','C1','C5','TP7','CP3','P1','P5','PO7','PO3','POz','PO4','PO8','P6','P2','CPz','CP4','TP8','C6','C2','FC4','F6','AF8','AF4','F2','FCz']\n",
    "\n",
    "# names = ['Fp1', 'Fp2', 'F7', 'F3', 'Fz', 'F4', 'F8', \n",
    "#  'T3', 'C3', 'Cz', 'C4', 'T4', \n",
    "#  'T5', 'P3', 'Pz', 'P4', 'T6', \n",
    "#  'O1', 'O2']\n",
    "\n",
    "\n",
    "allCond = np.concatenate((SHAPS_0,SHAPS_1),axis=0)\n",
    "print(np.shape(allCond))\n",
    "allCond= np.abs(allCond)\n",
    "print(np.shape(np.mean(allCond,axis=1)))\n",
    "fig=shap.summary_plot(np.mean(allCond,axis=1), plot_type = 'bar', feature_names = names,show=True)\n",
    "plt.savefig(f'{shap_dir}{timestamp}_shap.jpg', format='jpg')\n",
    "\n"
   ]
  },
  {
   "cell_type": "code",
   "execution_count": null,
   "id": "7b7d5170",
   "metadata": {},
   "outputs": [
    {
     "name": "stdout",
     "output_type": "stream",
     "text": [
      "(22, 200)\n",
      "(22, 200)\n"
     ]
    }
   ],
   "source": [
    "SHAPS_0 = np.mean(np.abs(SHAPS_0),axis=0)\n",
    "SHAPS_1 = np.mean(np.abs(SHAPS_1),axis=0)\n",
    "\n",
    "print(np.shape(SHAPS_0))\n",
    "print(np.shape(SHAPS_1))\n",
    "#Here goes the individual explainability"
   ]
  },
  {
   "cell_type": "code",
   "execution_count": 22,
   "id": "2f9541df",
   "metadata": {},
   "outputs": [],
   "source": [
    "import numpy as np\n",
    "import pickle\n",
    "\n",
    "with open(f\"{shap_dir}{timestamp}_shaps_values_all_{shap_type}\", \"rb\") as fp:   # Unpickling\n",
    "    shap_values_all = pickle.load(fp)\n",
    "    \n",
    "with open(f\"{shap_dir}{timestamp}_y_test_all_{shap_type}\", \"rb\") as fp:   # Unpickling\n",
    "    y_test_all = pickle.load(fp)\n",
    "\n",
    "with open(f\"{shap_dir}{timestamp}_y_pred_all_{shap_type}\", \"rb\") as fp:   # Unpickling\n",
    "    y_pred_all = pickle.load(fp)\n",
    "    \n"
   ]
  },
  {
   "cell_type": "code",
   "execution_count": null,
   "id": "8ebac4e7",
   "metadata": {},
   "outputs": [
    {
     "name": "stdout",
     "output_type": "stream",
     "text": [
      "Shape of a single SHAP elemenet in the list:  (2, 131, 1, 56, 400)\n",
      "Shape of a random y_test in the list:  (131,)\n",
      "Shape of a random y_pred in the list:  (131,)\n"
     ]
    }
   ],
   "source": [
    "print('Shape of a single SHAP elemenet in the list: ',np.shape(shap_values_all[0]))\n",
    "#class,trial,1,chan,samples\n",
    "\n",
    "print('Shape of a random y_test in the list: ',np.shape(y_test_all[0]))\n",
    "print('Shape of a random y_pred in the list: ',np.shape(y_pred_all[0]))"
   ]
  },
  {
   "cell_type": "code",
   "execution_count": null,
   "id": "661f4fa1",
   "metadata": {},
   "outputs": [
    {
     "ename": "ValueError",
     "evalue": "The truth value of an array with more than one element is ambiguous. Use a.any() or a.all()",
     "output_type": "error",
     "traceback": [
      "\u001b[0;31m---------------------------------------------------------------------------\u001b[0m",
      "\u001b[0;31mValueError\u001b[0m                                Traceback (most recent call last)",
      "Cell \u001b[0;32mIn[23], line 12\u001b[0m\n\u001b[1;32m     10\u001b[0m temp\u001b[38;5;241m=\u001b[39m[]\n\u001b[1;32m     11\u001b[0m \u001b[38;5;28;01mfor\u001b[39;00m i \u001b[38;5;129;01min\u001b[39;00m \u001b[38;5;28mrange\u001b[39m(\u001b[38;5;28mlen\u001b[39m(y_test_all[sub])):\n\u001b[0;32m---> 12\u001b[0m     \u001b[38;5;28;01mif\u001b[39;00m y_test_all[sub][i]\u001b[38;5;241m==\u001b[39m y_pred_all[sub][i]:\n\u001b[1;32m     13\u001b[0m         \u001b[38;5;28;01mif\u001b[39;00m y_test_all[sub][i] \u001b[38;5;241m==\u001b[39m \u001b[38;5;241m0\u001b[39m:\n\u001b[1;32m     14\u001b[0m             temp\u001b[38;5;241m.\u001b[39mappend(np\u001b[38;5;241m.\u001b[39msqueeze(shap_values_sub[\u001b[38;5;241m0\u001b[39m,i,:,:,:]))\n",
      "\u001b[0;31mValueError\u001b[0m: The truth value of an array with more than one element is ambiguous. Use a.any() or a.all()"
     ]
    }
   ],
   "source": [
    "from sklearn.model_selection import train_test_split\n",
    "import matplotlib.pyplot as plt\n",
    "import pandas as pd\n",
    "\n",
    "shap_sub=[]\n",
    "\n",
    "nSub=8\n",
    "for sub in range(nSub):\n",
    "    shap_values_sub=np.array(shap_values_all[sub])\n",
    "    temp=[]\n",
    "    for i in range(len(y_test_all[sub])):\n",
    "        if y_test_all[sub][i]== y_pred_all[sub][i]:\n",
    "            if y_test_all[sub][i] == 0:\n",
    "                temp.append(np.squeeze(shap_values_sub[0,i,:,:,:]))\n",
    "            if y_test_all[sub][i] == 1:\n",
    "                temp.append(np.squeeze(shap_values_sub[1,i,:,:,:]))\n",
    "    shap_sub.append(np.mean(np.abs(np.array(temp)),axis=0))\n",
    "\n",
    "\n",
    "print(np.shape(shap_sub[0]))\n",
    " \n"
   ]
  },
  {
   "cell_type": "code",
   "execution_count": null,
   "id": "055a2593",
   "metadata": {},
   "outputs": [
    {
     "name": "stdout",
     "output_type": "stream",
     "text": [
      "[26 30 24  0 52  3 25 51 33 28]\n",
      "[26 52 25  3 13 30 46  0 33 53]\n",
      "[26  0 25 30 52 24 37  3 28 38]\n",
      "[25 26 52 30  3 51 24  4 11  0]\n",
      "[ 3 26 52 30 24 25  9 51  4  0]\n",
      "[24 26  3 30 52 25 51 33 21 48]\n",
      "[26 52 38 25 30 13 34 24 51  3]\n",
      "[52 26 30 25  0  3 44 53 28 41]\n",
      "[52 26 25  3 24  4 30 51 36  0]\n",
      "[24 26  3 50 52 30  4 51 25 19]\n",
      "[26  3 52 30 25 24 53 38 51 33]\n",
      "[26 28 52 24 25 30  3 51  4  1]\n",
      "[52 26  3 30 25 51 37  0 24 33]\n",
      "[26 52 25 24 33 12 51 30  0 27]\n",
      "[26 25 52  3 33 24 30 21  0 23]\n",
      "[52  0  3 26 30 25 51 44 24 28]\n"
     ]
    }
   ],
   "source": [
    "best_ch=[]\n",
    "n=10 #how many best channels\n",
    "for sub in range(nSub):\n",
    "    temp=shap_sub[sub]\n",
    "    temp=np.mean(np.abs(temp),axis=1)\n",
    "    print((-temp).argsort()[:n])\n",
    "    best_ch.append((-temp).argsort()[:n])\n"
   ]
  },
  {
   "cell_type": "code",
   "execution_count": null,
   "id": "bf296666",
   "metadata": {},
   "outputs": [],
   "source": [
    "np.save('best_ch.npy', best_ch ,allow_pickle=True)\n"
   ]
  },
  {
   "cell_type": "code",
   "execution_count": null,
   "id": "3fa3fa4c",
   "metadata": {},
   "outputs": [],
   "source": []
  }
 ],
 "metadata": {
  "kernelspec": {
   "display_name": "bci",
   "language": "python",
   "name": "python3"
  },
  "language_info": {
   "codemirror_mode": {
    "name": "ipython",
    "version": 3
   },
   "file_extension": ".py",
   "mimetype": "text/x-python",
   "name": "python",
   "nbconvert_exporter": "python",
   "pygments_lexer": "ipython3",
   "version": "3.9.18"
  }
 },
 "nbformat": 4,
 "nbformat_minor": 5
}
